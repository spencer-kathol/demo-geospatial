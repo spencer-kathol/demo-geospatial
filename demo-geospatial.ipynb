{
 "cells": [
  {
   "cell_type": "markdown",
   "metadata": {},
   "source": [
    "# PHDI Geospatial Demo\n",
    "Geospatial functionality including geocoding patient addresses is a high priority for the CDC and public health agencies to improve health equity, and other reporting capabilities.  This demo covers basic use cases.\n",
    "\n",
    "## Install PHDI package from Pypi\n",
    "Although this has not yet been communicated to our STLT partners, a dev release of the PHDI package is now available on the public Pypi site.  To leverage Geospatial functionality, we simply need to install this package."
   ]
  },
  {
   "cell_type": "code",
   "execution_count": null,
   "metadata": {},
   "outputs": [],
   "source": [
    "%pip install phdi"
   ]
  },
  {
   "cell_type": "markdown",
   "metadata": {},
   "source": [
    "## Geocoding Service\n",
    "The PHDI geocoding provides a common programmatic interface including key functions and data structures. The PHDI architecture relies on 3rd party backend services with a small amount of glue code to connect the PHDI common interface with a the 3rd party geocoding service.  Our first implementation uses Smarty geocoding API as the backend.\n",
    "\n",
    "The demo code below geocodes the Atlanta CDC headquarters using the Smarty API."
   ]
  },
  {
   "cell_type": "code",
   "execution_count": null,
   "metadata": {},
   "outputs": [],
   "source": [
    "import yaml\n",
    "import phdi.geospatial.smarty as geo\n",
    "\n",
    "# Load Smarty credentials\n",
    "with open(\"./.credentials/smarty.yaml\", \"r\") as file:\n",
    "    smarty_creds = yaml.safe_load(file)\n",
    "\n",
    "# Initialize Smarty client\n",
    "smarty_client = geo.SmartyGeocodeClient(smarty_creds.get(\"auth_id\"),smarty_creds.get(\"auth_token\"))\n",
    "\n",
    "# Perform geocoding on an address\n",
    "print(smarty_client.geocode_from_str(\"1600 Clifton Rd, Atlanta, GA\"))\n"
   ]
  },
  {
   "cell_type": "markdown",
   "metadata": {},
   "source": [
    "## FHIR Geocoding Functions\n",
    "The PHDI FHIR geospatial functions use the base PHDI geocoding functions to access the geocoding service.\n",
    "\n",
    "The code below geocodes a patient address using a sample FHIR Patient resoruce."
   ]
  },
  {
   "cell_type": "code",
   "execution_count": null,
   "metadata": {},
   "outputs": [],
   "source": [
    "import yaml\n",
    "import json\n",
    "import phdi.fhir.geospatial.smarty as geo_fhir\n",
    "\n",
    "# Load Smarty credentials\n",
    "with open(\"./.credentials/smarty.yaml\", \"r\") as smarty_creds_file:\n",
    "    smarty_creds = yaml.safe_load(smarty_creds_file)\n",
    "\n",
    "smarty_client = geo_fhir.SmartyFhirGeocodeClient(smarty_creds.get(\"auth_id\"),smarty_creds.get(\"auth_token\"))\n",
    "\n",
    "# Load Patient resource\n",
    "with open(\"./patient.fhir.json\", \"r\") as patient_resource_file:\n",
    "  patient_fhir = json.load(patient_resource_file)\n",
    "\n",
    "smarty_client.geocode_resource(patient_fhir)"
   ]
  },
  {
   "cell_type": "code",
   "execution_count": null,
   "metadata": {},
   "outputs": [],
   "source": []
  }
 ],
 "metadata": {
  "kernelspec": {
   "display_name": "Python 3.9.12 64-bit ('geospatial-demo')",
   "language": "python",
   "name": "python3"
  },
  "language_info": {
   "codemirror_mode": {
    "name": "ipython",
    "version": 3
   },
   "file_extension": ".py",
   "mimetype": "text/x-python",
   "name": "python",
   "nbconvert_exporter": "python",
   "pygments_lexer": "ipython3"
  },
  "vscode": {
   "interpreter": {
    "hash": "0e83dcbeab4148b632a39104dc9616b805328060cd4888ba1204a0808d29c17e"
   }
  }
 },
 "nbformat": 4,
 "nbformat_minor": 2
}
